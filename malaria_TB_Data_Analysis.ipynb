{
 "cells": [
  {
   "cell_type": "markdown",
   "metadata": {},
   "source": [
    "# Understanding the trend of malaria and TB cases in East, West, central Africa and South Africa"
   ]
  },
  {
   "cell_type": "markdown",
   "metadata": {},
   "source": [
    "### Objectives\n",
    "1. Analyse the trend of malaria cases, TB mortality, sucess rate and detection rates since 2009\n",
    "2. Perform data cleaning and EDA  "
   ]
  },
  {
   "cell_type": "code",
   "execution_count": 1,
   "metadata": {
    "collapsed": false
   },
   "outputs": [],
   "source": [
    "#Changing the directory to point it to location of the dataset\n",
    "import os\n",
    "os.chdir(\"E:\\Dropbox\\Programming_Workbooks\\Analytics_Curve\\WorldDataBank\\MalariaTB\")"
   ]
  },
  {
   "cell_type": "code",
   "execution_count": 2,
   "metadata": {
    "collapsed": false
   },
   "outputs": [],
   "source": [
    "#importing libraries\n",
    "import pandas as pd\n",
    "import numpy as np\n",
    "import matplotlib.pyplot as plt\n",
    "import seaborn as sns #for statistical visualization\n",
    "%matplotlib inline "
   ]
  },
  {
   "cell_type": "markdown",
   "metadata": {},
   "source": [
    "## Reading the data"
   ]
  },
  {
   "cell_type": "code",
   "execution_count": 3,
   "metadata": {
    "collapsed": false
   },
   "outputs": [],
   "source": [
    "#Data\n",
    "malaria_TB=pd.read_excel(\"Data_Extract_From_Health_Nutrition_and_Population_Statistics.xlsx\", sheetname=\"Data\")\n",
    "\n",
    "\n",
    "#Description file\n",
    "malaria_TB_desc=pd.read_excel(\"Data_Extract_From_Health_Nutrition_and_Population_Statistics.xlsx\", sheetname=\"Definition\")\n"
   ]
  },
  {
   "cell_type": "markdown",
   "metadata": {},
   "source": [
    "Creating a copy of the data. It is safe to do this as we shall transform the data and  keeping a copy of the original is useful as we can still have access to original data whenever\n"
   ]
  },
  {
   "cell_type": "code",
   "execution_count": 4,
   "metadata": {
    "collapsed": true
   },
   "outputs": [],
   "source": [
    "#creating a copy of the data\n",
    "malaria_TB_Data = malaria_TB"
   ]
  },
  {
   "cell_type": "code",
   "execution_count": 51,
   "metadata": {
    "collapsed": false
   },
   "outputs": [
    {
     "data": {
      "text/html": [
       "<div>\n",
       "<table border=\"1\" class=\"dataframe\">\n",
       "  <thead>\n",
       "    <tr style=\"text-align: right;\">\n",
       "      <th></th>\n",
       "      <th>Code</th>\n",
       "      <th>Indicator Name</th>\n",
       "      <th>Long definition</th>\n",
       "      <th>Source</th>\n",
       "    </tr>\n",
       "  </thead>\n",
       "  <tbody>\n",
       "    <tr>\n",
       "      <th>0</th>\n",
       "      <td>SH.STA.MALR</td>\n",
       "      <td>Malaria cases reported</td>\n",
       "      <td>Reported cases of malaria are the number of co...</td>\n",
       "      <td>World Health Organization, Global Health Obser...</td>\n",
       "    </tr>\n",
       "    <tr>\n",
       "      <th>1</th>\n",
       "      <td>SH.TBS.MORT</td>\n",
       "      <td>Tuberculosis death rate (per 100,000 people)</td>\n",
       "      <td>Tuberculosis death rate is the estimated numbe...</td>\n",
       "      <td>World Health Organization, Global Tuberculosis...</td>\n",
       "    </tr>\n",
       "    <tr>\n",
       "      <th>2</th>\n",
       "      <td>SH.TBS.DTEC.ZS</td>\n",
       "      <td>Tuberculosis case detection rate (%, all forms)</td>\n",
       "      <td>Tuberculosis case detection rate (all forms) i...</td>\n",
       "      <td>World Health Organization, Global Tuberculosis...</td>\n",
       "    </tr>\n",
       "    <tr>\n",
       "      <th>3</th>\n",
       "      <td>SH.TBS.CURE.ZS</td>\n",
       "      <td>Tuberculosis treatment success rate (% of new ...</td>\n",
       "      <td>Tuberculosis treatment success rate is the per...</td>\n",
       "      <td>World Health Organization, Global Tuberculosis...</td>\n",
       "    </tr>\n",
       "  </tbody>\n",
       "</table>\n",
       "</div>"
      ],
      "text/plain": [
       "             Code                                     Indicator Name  \\\n",
       "0     SH.STA.MALR                             Malaria cases reported   \n",
       "1     SH.TBS.MORT       Tuberculosis death rate (per 100,000 people)   \n",
       "2  SH.TBS.DTEC.ZS    Tuberculosis case detection rate (%, all forms)   \n",
       "3  SH.TBS.CURE.ZS  Tuberculosis treatment success rate (% of new ...   \n",
       "\n",
       "                                     Long definition  \\\n",
       "0  Reported cases of malaria are the number of co...   \n",
       "1  Tuberculosis death rate is the estimated numbe...   \n",
       "2  Tuberculosis case detection rate (all forms) i...   \n",
       "3  Tuberculosis treatment success rate is the per...   \n",
       "\n",
       "                                              Source  \n",
       "0  World Health Organization, Global Health Obser...  \n",
       "1  World Health Organization, Global Tuberculosis...  \n",
       "2  World Health Organization, Global Tuberculosis...  \n",
       "3  World Health Organization, Global Tuberculosis...  "
      ]
     },
     "execution_count": 51,
     "metadata": {},
     "output_type": "execute_result"
    }
   ],
   "source": [
    "#The data contains a description of the data fields\n",
    "malaria_TB_desc"
   ]
  },
  {
   "cell_type": "code",
   "execution_count": 6,
   "metadata": {
    "collapsed": false
   },
   "outputs": [
    {
     "data": {
      "text/plain": [
       "Index(['Country Name', 'Country Code', 'Series Name', 'Series Code',\n",
       "       '2009 [YR2009]', '2010 [YR2010]', '2011 [YR2011]', '2012 [YR2012]',\n",
       "       '2013 [YR2013]', '2014 [YR2014]', '2015 [YR2015]', '2016 [YR2016]',\n",
       "       '2017 [YR2017]', '2018 [YR2018]'],\n",
       "      dtype='object')"
      ]
     },
     "execution_count": 6,
     "metadata": {},
     "output_type": "execute_result"
    }
   ],
   "source": [
    "#Checking the column names of the data\n",
    "malaria_TB_Data.columns"
   ]
  },
  {
   "cell_type": "code",
   "execution_count": 7,
   "metadata": {
    "collapsed": false
   },
   "outputs": [
    {
     "data": {
      "text/html": [
       "<div>\n",
       "<table border=\"1\" class=\"dataframe\">\n",
       "  <thead>\n",
       "    <tr style=\"text-align: right;\">\n",
       "      <th></th>\n",
       "      <th>Country Name</th>\n",
       "      <th>Country Code</th>\n",
       "      <th>Series Name</th>\n",
       "      <th>Series Code</th>\n",
       "      <th>2009 [YR2009]</th>\n",
       "      <th>2010 [YR2010]</th>\n",
       "      <th>2011 [YR2011]</th>\n",
       "      <th>2012 [YR2012]</th>\n",
       "      <th>2013 [YR2013]</th>\n",
       "      <th>2014 [YR2014]</th>\n",
       "      <th>2015 [YR2015]</th>\n",
       "      <th>2016 [YR2016]</th>\n",
       "      <th>2017 [YR2017]</th>\n",
       "      <th>2018 [YR2018]</th>\n",
       "    </tr>\n",
       "  </thead>\n",
       "  <tbody>\n",
       "    <tr>\n",
       "      <th>0</th>\n",
       "      <td>Angola</td>\n",
       "      <td>AGO</td>\n",
       "      <td>Malaria cases reported</td>\n",
       "      <td>SH.STA.MALR</td>\n",
       "      <td>..</td>\n",
       "      <td>1682870</td>\n",
       "      <td>1632282</td>\n",
       "      <td>1496834</td>\n",
       "      <td>1999868</td>\n",
       "      <td>2298979</td>\n",
       "      <td>2769305</td>\n",
       "      <td>3794253</td>\n",
       "      <td>3874892</td>\n",
       "      <td>..</td>\n",
       "    </tr>\n",
       "    <tr>\n",
       "      <th>1</th>\n",
       "      <td>Angola</td>\n",
       "      <td>AGO</td>\n",
       "      <td>Tuberculosis death rate (per 100,000 people)</td>\n",
       "      <td>SH.TBS.MORT</td>\n",
       "      <td>77</td>\n",
       "      <td>74</td>\n",
       "      <td>72</td>\n",
       "      <td>67</td>\n",
       "      <td>59</td>\n",
       "      <td>65</td>\n",
       "      <td>59</td>\n",
       "      <td>60</td>\n",
       "      <td>67</td>\n",
       "      <td>..</td>\n",
       "    </tr>\n",
       "    <tr>\n",
       "      <th>2</th>\n",
       "      <td>Angola</td>\n",
       "      <td>AGO</td>\n",
       "      <td>Tuberculosis case detection rate (all forms)</td>\n",
       "      <td>SH.TBS.DTEC.ZS</td>\n",
       "      <td>48</td>\n",
       "      <td>50</td>\n",
       "      <td>51</td>\n",
       "      <td>54</td>\n",
       "      <td>60</td>\n",
       "      <td>54</td>\n",
       "      <td>58</td>\n",
       "      <td>57</td>\n",
       "      <td>51</td>\n",
       "      <td>..</td>\n",
       "    </tr>\n",
       "  </tbody>\n",
       "</table>\n",
       "</div>"
      ],
      "text/plain": [
       "  Country Name Country Code                                   Series Name  \\\n",
       "0       Angola          AGO                        Malaria cases reported   \n",
       "1       Angola          AGO  Tuberculosis death rate (per 100,000 people)   \n",
       "2       Angola          AGO  Tuberculosis case detection rate (all forms)   \n",
       "\n",
       "      Series Code 2009 [YR2009] 2010 [YR2010] 2011 [YR2011] 2012 [YR2012]  \\\n",
       "0     SH.STA.MALR            ..       1682870       1632282       1496834   \n",
       "1     SH.TBS.MORT            77            74            72            67   \n",
       "2  SH.TBS.DTEC.ZS            48            50            51            54   \n",
       "\n",
       "  2013 [YR2013] 2014 [YR2014] 2015 [YR2015] 2016 [YR2016] 2017 [YR2017]  \\\n",
       "0       1999868       2298979       2769305       3794253       3874892   \n",
       "1            59            65            59            60            67   \n",
       "2            60            54            58            57            51   \n",
       "\n",
       "  2018 [YR2018]  \n",
       "0            ..  \n",
       "1            ..  \n",
       "2            ..  "
      ]
     },
     "execution_count": 7,
     "metadata": {},
     "output_type": "execute_result"
    }
   ],
   "source": [
    "#Having a glimpse of the first three rows of the data\n",
    "malaria_TB_Data.head(3)"
   ]
  },
  {
   "cell_type": "code",
   "execution_count": 8,
   "metadata": {
    "collapsed": false
   },
   "outputs": [
    {
     "data": {
      "text/plain": [
       "object    14\n",
       "dtype: int64"
      ]
     },
     "execution_count": 8,
     "metadata": {},
     "output_type": "execute_result"
    }
   ],
   "source": [
    "#checking type of the data points\n",
    "\n",
    "malaria_TB_Data.dtypes.value_counts()"
   ]
  },
  {
   "cell_type": "markdown",
   "metadata": {},
   "source": [
    "We have entries of numerid data which have been read as object type. We shall convert them to integers/float type shortly"
   ]
  },
  {
   "cell_type": "code",
   "execution_count": 10,
   "metadata": {
    "collapsed": false
   },
   "outputs": [
    {
     "data": {
      "text/plain": [
       "Country Name     3\n",
       "Country Code     5\n",
       "Series Name      5\n",
       "Series Code      5\n",
       "2009 [YR2009]    5\n",
       "2010 [YR2010]    5\n",
       "2011 [YR2011]    5\n",
       "2012 [YR2012]    5\n",
       "2013 [YR2013]    5\n",
       "2014 [YR2014]    5\n",
       "2015 [YR2015]    5\n",
       "2016 [YR2016]    5\n",
       "2017 [YR2017]    5\n",
       "2018 [YR2018]    5\n",
       "dtype: int64"
      ]
     },
     "execution_count": 10,
     "metadata": {},
     "output_type": "execute_result"
    }
   ],
   "source": [
    "#Checking if null entries exist in the data points \n",
    "malaria_TB_Data.isnull().sum(axis=0) #across the columns\n",
    "#malaria_TB_Data.isnull().sum(axis=1) #across the rows"
   ]
  },
  {
   "cell_type": "markdown",
   "metadata": {},
   "source": [
    "###  Observations"
   ]
  },
  {
   "cell_type": "markdown",
   "metadata": {},
   "source": [
    "1. Column names has spaces. Python does not work really well with such column names thus, we shall rename them\n",
    "2. Numeric data contained in column name 2009  2018 are seen as object types. We shall convert them to int type\n",
    "3. The data has some null entries. Which we shall check and either perform data mutation or leave as it is."
   ]
  },
  {
   "cell_type": "markdown",
   "metadata": {},
   "source": [
    "## Data cleaning"
   ]
  },
  {
   "cell_type": "markdown",
   "metadata": {},
   "source": [
    "Since python does not work well with spaces we shall rename the column names"
   ]
  },
  {
   "cell_type": "code",
   "execution_count": 11,
   "metadata": {
    "collapsed": true
   },
   "outputs": [],
   "source": [
    "malaria_TB_Data.columns=['Country_Name', 'Country_Code', 'Series_Name', 'Series_Code',\n",
    "       '2009', '2010', '2011', '2012', '2013', '2014', '2015', '2016', '2017', '2018']"
   ]
  },
  {
   "cell_type": "markdown",
   "metadata": {},
   "source": [
    "Converting the data type of numeric data from object to int/float"
   ]
  },
  {
   "cell_type": "code",
   "execution_count": 12,
   "metadata": {
    "collapsed": false
   },
   "outputs": [],
   "source": [
    "malaria_TB_Data['2009'] = pd.to_numeric(malaria_TB_Data['2009'], errors='coerce')\n",
    "malaria_TB_Data['2010'] = pd.to_numeric(malaria_TB_Data['2010'], errors='coerce')\n",
    "malaria_TB_Data['2011'] = pd.to_numeric(malaria_TB_Data['2011'], errors='coerce')\n",
    "malaria_TB_Data['2012'] = pd.to_numeric(malaria_TB_Data['2012'], errors='coerce')\n",
    "malaria_TB_Data['2013'] = pd.to_numeric(malaria_TB_Data['2013'], errors='coerce')\n",
    "malaria_TB_Data['2014'] = pd.to_numeric(malaria_TB_Data['2014'], errors='coerce')\n",
    "malaria_TB_Data['2015'] = pd.to_numeric(malaria_TB_Data['2015'], errors='coerce')\n",
    "malaria_TB_Data['2016'] = pd.to_numeric(malaria_TB_Data['2016'], errors='coerce')\n",
    "malaria_TB_Data['2017'] = pd.to_numeric(malaria_TB_Data['2017'], errors='coerce')"
   ]
  },
  {
   "cell_type": "code",
   "execution_count": 13,
   "metadata": {
    "collapsed": false
   },
   "outputs": [
    {
     "data": {
      "text/plain": [
       "float64    9\n",
       "object     5\n",
       "dtype: int64"
      ]
     },
     "execution_count": 13,
     "metadata": {},
     "output_type": "execute_result"
    }
   ],
   "source": [
    "malaria_TB_Data.dtypes.value_counts()\n",
    "#checking data types of the dat"
   ]
  },
  {
   "cell_type": "markdown",
   "metadata": {},
   "source": [
    "Selecting rows with null values\n"
   ]
  },
  {
   "cell_type": "code",
   "execution_count": 15,
   "metadata": {
    "collapsed": false,
    "scrolled": true
   },
   "outputs": [
    {
     "data": {
      "text/html": [
       "<div>\n",
       "<table border=\"1\" class=\"dataframe\">\n",
       "  <thead>\n",
       "    <tr style=\"text-align: right;\">\n",
       "      <th></th>\n",
       "      <th>Country_Name</th>\n",
       "      <th>Country_Code</th>\n",
       "      <th>Series_Name</th>\n",
       "      <th>Series_Code</th>\n",
       "      <th>2009</th>\n",
       "      <th>2010</th>\n",
       "      <th>2011</th>\n",
       "      <th>2012</th>\n",
       "      <th>2013</th>\n",
       "      <th>2014</th>\n",
       "      <th>2015</th>\n",
       "      <th>2016</th>\n",
       "      <th>2017</th>\n",
       "      <th>2018</th>\n",
       "    </tr>\n",
       "  </thead>\n",
       "  <tbody>\n",
       "    <tr>\n",
       "      <th>0</th>\n",
       "      <td>Angola</td>\n",
       "      <td>AGO</td>\n",
       "      <td>Malaria cases reported</td>\n",
       "      <td>SH.STA.MALR</td>\n",
       "      <td>NaN</td>\n",
       "      <td>1682870.0</td>\n",
       "      <td>1632282.0</td>\n",
       "      <td>1496834.0</td>\n",
       "      <td>1999868.0</td>\n",
       "      <td>2298979.0</td>\n",
       "      <td>2769305.0</td>\n",
       "      <td>3794253.0</td>\n",
       "      <td>3874892.0</td>\n",
       "      <td>..</td>\n",
       "    </tr>\n",
       "    <tr>\n",
       "      <th>3</th>\n",
       "      <td>Angola</td>\n",
       "      <td>AGO</td>\n",
       "      <td>Tuberculosis treatment success rate (% of new ...</td>\n",
       "      <td>SH.TBS.CURE.ZS</td>\n",
       "      <td>41.0</td>\n",
       "      <td>48.0</td>\n",
       "      <td>27.0</td>\n",
       "      <td>45.0</td>\n",
       "      <td>23.0</td>\n",
       "      <td>34.0</td>\n",
       "      <td>NaN</td>\n",
       "      <td>27.0</td>\n",
       "      <td>NaN</td>\n",
       "      <td>..</td>\n",
       "    </tr>\n",
       "    <tr>\n",
       "      <th>4</th>\n",
       "      <td>Benin</td>\n",
       "      <td>BEN</td>\n",
       "      <td>Malaria cases reported</td>\n",
       "      <td>SH.STA.MALR</td>\n",
       "      <td>NaN</td>\n",
       "      <td>NaN</td>\n",
       "      <td>422968.0</td>\n",
       "      <td>705839.0</td>\n",
       "      <td>1078834.0</td>\n",
       "      <td>1044235.0</td>\n",
       "      <td>1268347.0</td>\n",
       "      <td>1324576.0</td>\n",
       "      <td>1696777.0</td>\n",
       "      <td>..</td>\n",
       "    </tr>\n",
       "    <tr>\n",
       "      <th>7</th>\n",
       "      <td>Benin</td>\n",
       "      <td>BEN</td>\n",
       "      <td>Tuberculosis treatment success rate (% of new ...</td>\n",
       "      <td>SH.TBS.CURE.ZS</td>\n",
       "      <td>88.0</td>\n",
       "      <td>90.0</td>\n",
       "      <td>89.0</td>\n",
       "      <td>90.0</td>\n",
       "      <td>89.0</td>\n",
       "      <td>89.0</td>\n",
       "      <td>88.0</td>\n",
       "      <td>88.0</td>\n",
       "      <td>NaN</td>\n",
       "      <td>..</td>\n",
       "    </tr>\n",
       "    <tr>\n",
       "      <th>8</th>\n",
       "      <td>Burkina Faso</td>\n",
       "      <td>BFA</td>\n",
       "      <td>Malaria cases reported</td>\n",
       "      <td>SH.STA.MALR</td>\n",
       "      <td>NaN</td>\n",
       "      <td>804539.0</td>\n",
       "      <td>428113.0</td>\n",
       "      <td>3858046.0</td>\n",
       "      <td>3769051.0</td>\n",
       "      <td>5428655.0</td>\n",
       "      <td>7015446.0</td>\n",
       "      <td>9779154.0</td>\n",
       "      <td>10225459.0</td>\n",
       "      <td>..</td>\n",
       "    </tr>\n",
       "    <tr>\n",
       "      <th>11</th>\n",
       "      <td>Burkina Faso</td>\n",
       "      <td>BFA</td>\n",
       "      <td>Tuberculosis treatment success rate (% of new ...</td>\n",
       "      <td>SH.TBS.CURE.ZS</td>\n",
       "      <td>77.0</td>\n",
       "      <td>78.0</td>\n",
       "      <td>77.0</td>\n",
       "      <td>80.0</td>\n",
       "      <td>80.0</td>\n",
       "      <td>81.0</td>\n",
       "      <td>78.0</td>\n",
       "      <td>80.0</td>\n",
       "      <td>NaN</td>\n",
       "      <td>..</td>\n",
       "    </tr>\n",
       "    <tr>\n",
       "      <th>12</th>\n",
       "      <td>Cameroon</td>\n",
       "      <td>CMR</td>\n",
       "      <td>Malaria cases reported</td>\n",
       "      <td>SH.STA.MALR</td>\n",
       "      <td>NaN</td>\n",
       "      <td>NaN</td>\n",
       "      <td>15212.0</td>\n",
       "      <td>NaN</td>\n",
       "      <td>26651.0</td>\n",
       "      <td>NaN</td>\n",
       "      <td>1162784.0</td>\n",
       "      <td>1675264.0</td>\n",
       "      <td>1191257.0</td>\n",
       "      <td>..</td>\n",
       "    </tr>\n",
       "    <tr>\n",
       "      <th>15</th>\n",
       "      <td>Cameroon</td>\n",
       "      <td>CMR</td>\n",
       "      <td>Tuberculosis treatment success rate (% of new ...</td>\n",
       "      <td>SH.TBS.CURE.ZS</td>\n",
       "      <td>77.0</td>\n",
       "      <td>78.0</td>\n",
       "      <td>79.0</td>\n",
       "      <td>79.0</td>\n",
       "      <td>82.0</td>\n",
       "      <td>84.0</td>\n",
       "      <td>84.0</td>\n",
       "      <td>84.0</td>\n",
       "      <td>NaN</td>\n",
       "      <td>..</td>\n",
       "    </tr>\n",
       "    <tr>\n",
       "      <th>16</th>\n",
       "      <td>Central African Republic</td>\n",
       "      <td>CAF</td>\n",
       "      <td>Malaria cases reported</td>\n",
       "      <td>SH.STA.MALR</td>\n",
       "      <td>NaN</td>\n",
       "      <td>NaN</td>\n",
       "      <td>NaN</td>\n",
       "      <td>46759.0</td>\n",
       "      <td>116300.0</td>\n",
       "      <td>295088.0</td>\n",
       "      <td>598833.0</td>\n",
       "      <td>1032764.0</td>\n",
       "      <td>383309.0</td>\n",
       "      <td>..</td>\n",
       "    </tr>\n",
       "    <tr>\n",
       "      <th>19</th>\n",
       "      <td>Central African Republic</td>\n",
       "      <td>CAF</td>\n",
       "      <td>Tuberculosis treatment success rate (% of new ...</td>\n",
       "      <td>SH.TBS.CURE.ZS</td>\n",
       "      <td>47.0</td>\n",
       "      <td>59.0</td>\n",
       "      <td>59.0</td>\n",
       "      <td>68.0</td>\n",
       "      <td>70.0</td>\n",
       "      <td>70.0</td>\n",
       "      <td>78.0</td>\n",
       "      <td>78.0</td>\n",
       "      <td>NaN</td>\n",
       "      <td>..</td>\n",
       "    </tr>\n",
       "    <tr>\n",
       "      <th>20</th>\n",
       "      <td>Gambia, The</td>\n",
       "      <td>GMB</td>\n",
       "      <td>Malaria cases reported</td>\n",
       "      <td>SH.STA.MALR</td>\n",
       "      <td>NaN</td>\n",
       "      <td>116353.0</td>\n",
       "      <td>261967.0</td>\n",
       "      <td>300363.0</td>\n",
       "      <td>240792.0</td>\n",
       "      <td>166229.0</td>\n",
       "      <td>240382.0</td>\n",
       "      <td>153774.0</td>\n",
       "      <td>69931.0</td>\n",
       "      <td>..</td>\n",
       "    </tr>\n",
       "    <tr>\n",
       "      <th>23</th>\n",
       "      <td>Gambia, The</td>\n",
       "      <td>GMB</td>\n",
       "      <td>Tuberculosis treatment success rate (% of new ...</td>\n",
       "      <td>SH.TBS.CURE.ZS</td>\n",
       "      <td>89.0</td>\n",
       "      <td>88.0</td>\n",
       "      <td>88.0</td>\n",
       "      <td>85.0</td>\n",
       "      <td>86.0</td>\n",
       "      <td>88.0</td>\n",
       "      <td>82.0</td>\n",
       "      <td>80.0</td>\n",
       "      <td>NaN</td>\n",
       "      <td>..</td>\n",
       "    </tr>\n",
       "    <tr>\n",
       "      <th>24</th>\n",
       "      <td>Kenya</td>\n",
       "      <td>KEN</td>\n",
       "      <td>Malaria cases reported</td>\n",
       "      <td>SH.STA.MALR</td>\n",
       "      <td>NaN</td>\n",
       "      <td>898531.0</td>\n",
       "      <td>1002805.0</td>\n",
       "      <td>1453471.0</td>\n",
       "      <td>2335286.0</td>\n",
       "      <td>2808931.0</td>\n",
       "      <td>1499027.0</td>\n",
       "      <td>2783846.0</td>\n",
       "      <td>3215116.0</td>\n",
       "      <td>..</td>\n",
       "    </tr>\n",
       "    <tr>\n",
       "      <th>27</th>\n",
       "      <td>Kenya</td>\n",
       "      <td>KEN</td>\n",
       "      <td>Tuberculosis treatment success rate (% of new ...</td>\n",
       "      <td>SH.TBS.CURE.ZS</td>\n",
       "      <td>84.0</td>\n",
       "      <td>86.0</td>\n",
       "      <td>87.0</td>\n",
       "      <td>86.0</td>\n",
       "      <td>86.0</td>\n",
       "      <td>87.0</td>\n",
       "      <td>87.0</td>\n",
       "      <td>81.0</td>\n",
       "      <td>NaN</td>\n",
       "      <td>..</td>\n",
       "    </tr>\n",
       "    <tr>\n",
       "      <th>28</th>\n",
       "      <td>Rwanda</td>\n",
       "      <td>RWA</td>\n",
       "      <td>Malaria cases reported</td>\n",
       "      <td>SH.STA.MALR</td>\n",
       "      <td>NaN</td>\n",
       "      <td>638669.0</td>\n",
       "      <td>208858.0</td>\n",
       "      <td>483470.0</td>\n",
       "      <td>962618.0</td>\n",
       "      <td>1610812.0</td>\n",
       "      <td>2505794.0</td>\n",
       "      <td>3380568.0</td>\n",
       "      <td>3403183.0</td>\n",
       "      <td>..</td>\n",
       "    </tr>\n",
       "    <tr>\n",
       "      <th>31</th>\n",
       "      <td>Rwanda</td>\n",
       "      <td>RWA</td>\n",
       "      <td>Tuberculosis treatment success rate (% of new ...</td>\n",
       "      <td>SH.TBS.CURE.ZS</td>\n",
       "      <td>79.0</td>\n",
       "      <td>82.0</td>\n",
       "      <td>84.0</td>\n",
       "      <td>84.0</td>\n",
       "      <td>85.0</td>\n",
       "      <td>86.0</td>\n",
       "      <td>87.0</td>\n",
       "      <td>86.0</td>\n",
       "      <td>NaN</td>\n",
       "      <td>..</td>\n",
       "    </tr>\n",
       "    <tr>\n",
       "      <th>32</th>\n",
       "      <td>South Africa</td>\n",
       "      <td>ZAF</td>\n",
       "      <td>Malaria cases reported</td>\n",
       "      <td>SH.STA.MALR</td>\n",
       "      <td>NaN</td>\n",
       "      <td>8060.0</td>\n",
       "      <td>9866.0</td>\n",
       "      <td>5629.0</td>\n",
       "      <td>8645.0</td>\n",
       "      <td>11705.0</td>\n",
       "      <td>4357.0</td>\n",
       "      <td>4323.0</td>\n",
       "      <td>28295.0</td>\n",
       "      <td>..</td>\n",
       "    </tr>\n",
       "    <tr>\n",
       "      <th>35</th>\n",
       "      <td>South Africa</td>\n",
       "      <td>ZAF</td>\n",
       "      <td>Tuberculosis treatment success rate (% of new ...</td>\n",
       "      <td>SH.TBS.CURE.ZS</td>\n",
       "      <td>68.0</td>\n",
       "      <td>53.0</td>\n",
       "      <td>77.0</td>\n",
       "      <td>77.0</td>\n",
       "      <td>78.0</td>\n",
       "      <td>78.0</td>\n",
       "      <td>81.0</td>\n",
       "      <td>82.0</td>\n",
       "      <td>NaN</td>\n",
       "      <td>..</td>\n",
       "    </tr>\n",
       "    <tr>\n",
       "      <th>36</th>\n",
       "      <td>Uganda</td>\n",
       "      <td>UGA</td>\n",
       "      <td>Malaria cases reported</td>\n",
       "      <td>SH.STA.MALR</td>\n",
       "      <td>NaN</td>\n",
       "      <td>1581160.0</td>\n",
       "      <td>231873.0</td>\n",
       "      <td>2662258.0</td>\n",
       "      <td>1502362.0</td>\n",
       "      <td>3631939.0</td>\n",
       "      <td>7137662.0</td>\n",
       "      <td>9385132.0</td>\n",
       "      <td>11667831.0</td>\n",
       "      <td>..</td>\n",
       "    </tr>\n",
       "    <tr>\n",
       "      <th>39</th>\n",
       "      <td>Uganda</td>\n",
       "      <td>UGA</td>\n",
       "      <td>Tuberculosis treatment success rate (% of new ...</td>\n",
       "      <td>SH.TBS.CURE.ZS</td>\n",
       "      <td>64.0</td>\n",
       "      <td>68.0</td>\n",
       "      <td>73.0</td>\n",
       "      <td>77.0</td>\n",
       "      <td>75.0</td>\n",
       "      <td>75.0</td>\n",
       "      <td>75.0</td>\n",
       "      <td>77.0</td>\n",
       "      <td>NaN</td>\n",
       "      <td>..</td>\n",
       "    </tr>\n",
       "    <tr>\n",
       "      <th>40</th>\n",
       "      <td>Tanzania</td>\n",
       "      <td>TZA</td>\n",
       "      <td>Malaria cases reported</td>\n",
       "      <td>SH.STA.MALR</td>\n",
       "      <td>NaN</td>\n",
       "      <td>NaN</td>\n",
       "      <td>NaN</td>\n",
       "      <td>NaN</td>\n",
       "      <td>NaN</td>\n",
       "      <td>NaN</td>\n",
       "      <td>NaN</td>\n",
       "      <td>NaN</td>\n",
       "      <td>NaN</td>\n",
       "      <td>..</td>\n",
       "    </tr>\n",
       "    <tr>\n",
       "      <th>43</th>\n",
       "      <td>Tanzania</td>\n",
       "      <td>TZA</td>\n",
       "      <td>Tuberculosis treatment success rate (% of new ...</td>\n",
       "      <td>SH.TBS.CURE.ZS</td>\n",
       "      <td>88.0</td>\n",
       "      <td>89.0</td>\n",
       "      <td>88.0</td>\n",
       "      <td>90.0</td>\n",
       "      <td>91.0</td>\n",
       "      <td>90.0</td>\n",
       "      <td>90.0</td>\n",
       "      <td>90.0</td>\n",
       "      <td>NaN</td>\n",
       "      <td>..</td>\n",
       "    </tr>\n",
       "    <tr>\n",
       "      <th>44</th>\n",
       "      <td>NaN</td>\n",
       "      <td>NaN</td>\n",
       "      <td>NaN</td>\n",
       "      <td>NaN</td>\n",
       "      <td>NaN</td>\n",
       "      <td>NaN</td>\n",
       "      <td>NaN</td>\n",
       "      <td>NaN</td>\n",
       "      <td>NaN</td>\n",
       "      <td>NaN</td>\n",
       "      <td>NaN</td>\n",
       "      <td>NaN</td>\n",
       "      <td>NaN</td>\n",
       "      <td>NaN</td>\n",
       "    </tr>\n",
       "    <tr>\n",
       "      <th>45</th>\n",
       "      <td>NaN</td>\n",
       "      <td>NaN</td>\n",
       "      <td>NaN</td>\n",
       "      <td>NaN</td>\n",
       "      <td>NaN</td>\n",
       "      <td>NaN</td>\n",
       "      <td>NaN</td>\n",
       "      <td>NaN</td>\n",
       "      <td>NaN</td>\n",
       "      <td>NaN</td>\n",
       "      <td>NaN</td>\n",
       "      <td>NaN</td>\n",
       "      <td>NaN</td>\n",
       "      <td>NaN</td>\n",
       "    </tr>\n",
       "    <tr>\n",
       "      <th>46</th>\n",
       "      <td>NaN</td>\n",
       "      <td>NaN</td>\n",
       "      <td>NaN</td>\n",
       "      <td>NaN</td>\n",
       "      <td>NaN</td>\n",
       "      <td>NaN</td>\n",
       "      <td>NaN</td>\n",
       "      <td>NaN</td>\n",
       "      <td>NaN</td>\n",
       "      <td>NaN</td>\n",
       "      <td>NaN</td>\n",
       "      <td>NaN</td>\n",
       "      <td>NaN</td>\n",
       "      <td>NaN</td>\n",
       "    </tr>\n",
       "    <tr>\n",
       "      <th>47</th>\n",
       "      <td>Data from database: Health Nutrition and Popul...</td>\n",
       "      <td>NaN</td>\n",
       "      <td>NaN</td>\n",
       "      <td>NaN</td>\n",
       "      <td>NaN</td>\n",
       "      <td>NaN</td>\n",
       "      <td>NaN</td>\n",
       "      <td>NaN</td>\n",
       "      <td>NaN</td>\n",
       "      <td>NaN</td>\n",
       "      <td>NaN</td>\n",
       "      <td>NaN</td>\n",
       "      <td>NaN</td>\n",
       "      <td>NaN</td>\n",
       "    </tr>\n",
       "    <tr>\n",
       "      <th>48</th>\n",
       "      <td>Last Updated: 01/25/2019</td>\n",
       "      <td>NaN</td>\n",
       "      <td>NaN</td>\n",
       "      <td>NaN</td>\n",
       "      <td>NaN</td>\n",
       "      <td>NaN</td>\n",
       "      <td>NaN</td>\n",
       "      <td>NaN</td>\n",
       "      <td>NaN</td>\n",
       "      <td>NaN</td>\n",
       "      <td>NaN</td>\n",
       "      <td>NaN</td>\n",
       "      <td>NaN</td>\n",
       "      <td>NaN</td>\n",
       "    </tr>\n",
       "  </tbody>\n",
       "</table>\n",
       "</div>"
      ],
      "text/plain": [
       "                                         Country_Name Country_Code  \\\n",
       "0                                              Angola          AGO   \n",
       "3                                              Angola          AGO   \n",
       "4                                               Benin          BEN   \n",
       "7                                               Benin          BEN   \n",
       "8                                        Burkina Faso          BFA   \n",
       "11                                       Burkina Faso          BFA   \n",
       "12                                           Cameroon          CMR   \n",
       "15                                           Cameroon          CMR   \n",
       "16                           Central African Republic          CAF   \n",
       "19                           Central African Republic          CAF   \n",
       "20                                        Gambia, The          GMB   \n",
       "23                                        Gambia, The          GMB   \n",
       "24                                              Kenya          KEN   \n",
       "27                                              Kenya          KEN   \n",
       "28                                             Rwanda          RWA   \n",
       "31                                             Rwanda          RWA   \n",
       "32                                       South Africa          ZAF   \n",
       "35                                       South Africa          ZAF   \n",
       "36                                             Uganda          UGA   \n",
       "39                                             Uganda          UGA   \n",
       "40                                           Tanzania          TZA   \n",
       "43                                           Tanzania          TZA   \n",
       "44                                                NaN          NaN   \n",
       "45                                                NaN          NaN   \n",
       "46                                                NaN          NaN   \n",
       "47  Data from database: Health Nutrition and Popul...          NaN   \n",
       "48                           Last Updated: 01/25/2019          NaN   \n",
       "\n",
       "                                          Series_Name     Series_Code  2009  \\\n",
       "0                              Malaria cases reported     SH.STA.MALR   NaN   \n",
       "3   Tuberculosis treatment success rate (% of new ...  SH.TBS.CURE.ZS  41.0   \n",
       "4                              Malaria cases reported     SH.STA.MALR   NaN   \n",
       "7   Tuberculosis treatment success rate (% of new ...  SH.TBS.CURE.ZS  88.0   \n",
       "8                              Malaria cases reported     SH.STA.MALR   NaN   \n",
       "11  Tuberculosis treatment success rate (% of new ...  SH.TBS.CURE.ZS  77.0   \n",
       "12                             Malaria cases reported     SH.STA.MALR   NaN   \n",
       "15  Tuberculosis treatment success rate (% of new ...  SH.TBS.CURE.ZS  77.0   \n",
       "16                             Malaria cases reported     SH.STA.MALR   NaN   \n",
       "19  Tuberculosis treatment success rate (% of new ...  SH.TBS.CURE.ZS  47.0   \n",
       "20                             Malaria cases reported     SH.STA.MALR   NaN   \n",
       "23  Tuberculosis treatment success rate (% of new ...  SH.TBS.CURE.ZS  89.0   \n",
       "24                             Malaria cases reported     SH.STA.MALR   NaN   \n",
       "27  Tuberculosis treatment success rate (% of new ...  SH.TBS.CURE.ZS  84.0   \n",
       "28                             Malaria cases reported     SH.STA.MALR   NaN   \n",
       "31  Tuberculosis treatment success rate (% of new ...  SH.TBS.CURE.ZS  79.0   \n",
       "32                             Malaria cases reported     SH.STA.MALR   NaN   \n",
       "35  Tuberculosis treatment success rate (% of new ...  SH.TBS.CURE.ZS  68.0   \n",
       "36                             Malaria cases reported     SH.STA.MALR   NaN   \n",
       "39  Tuberculosis treatment success rate (% of new ...  SH.TBS.CURE.ZS  64.0   \n",
       "40                             Malaria cases reported     SH.STA.MALR   NaN   \n",
       "43  Tuberculosis treatment success rate (% of new ...  SH.TBS.CURE.ZS  88.0   \n",
       "44                                                NaN             NaN   NaN   \n",
       "45                                                NaN             NaN   NaN   \n",
       "46                                                NaN             NaN   NaN   \n",
       "47                                                NaN             NaN   NaN   \n",
       "48                                                NaN             NaN   NaN   \n",
       "\n",
       "         2010       2011       2012       2013       2014       2015  \\\n",
       "0   1682870.0  1632282.0  1496834.0  1999868.0  2298979.0  2769305.0   \n",
       "3        48.0       27.0       45.0       23.0       34.0        NaN   \n",
       "4         NaN   422968.0   705839.0  1078834.0  1044235.0  1268347.0   \n",
       "7        90.0       89.0       90.0       89.0       89.0       88.0   \n",
       "8    804539.0   428113.0  3858046.0  3769051.0  5428655.0  7015446.0   \n",
       "11       78.0       77.0       80.0       80.0       81.0       78.0   \n",
       "12        NaN    15212.0        NaN    26651.0        NaN  1162784.0   \n",
       "15       78.0       79.0       79.0       82.0       84.0       84.0   \n",
       "16        NaN        NaN    46759.0   116300.0   295088.0   598833.0   \n",
       "19       59.0       59.0       68.0       70.0       70.0       78.0   \n",
       "20   116353.0   261967.0   300363.0   240792.0   166229.0   240382.0   \n",
       "23       88.0       88.0       85.0       86.0       88.0       82.0   \n",
       "24   898531.0  1002805.0  1453471.0  2335286.0  2808931.0  1499027.0   \n",
       "27       86.0       87.0       86.0       86.0       87.0       87.0   \n",
       "28   638669.0   208858.0   483470.0   962618.0  1610812.0  2505794.0   \n",
       "31       82.0       84.0       84.0       85.0       86.0       87.0   \n",
       "32     8060.0     9866.0     5629.0     8645.0    11705.0     4357.0   \n",
       "35       53.0       77.0       77.0       78.0       78.0       81.0   \n",
       "36  1581160.0   231873.0  2662258.0  1502362.0  3631939.0  7137662.0   \n",
       "39       68.0       73.0       77.0       75.0       75.0       75.0   \n",
       "40        NaN        NaN        NaN        NaN        NaN        NaN   \n",
       "43       89.0       88.0       90.0       91.0       90.0       90.0   \n",
       "44        NaN        NaN        NaN        NaN        NaN        NaN   \n",
       "45        NaN        NaN        NaN        NaN        NaN        NaN   \n",
       "46        NaN        NaN        NaN        NaN        NaN        NaN   \n",
       "47        NaN        NaN        NaN        NaN        NaN        NaN   \n",
       "48        NaN        NaN        NaN        NaN        NaN        NaN   \n",
       "\n",
       "         2016        2017 2018  \n",
       "0   3794253.0   3874892.0   ..  \n",
       "3        27.0         NaN   ..  \n",
       "4   1324576.0   1696777.0   ..  \n",
       "7        88.0         NaN   ..  \n",
       "8   9779154.0  10225459.0   ..  \n",
       "11       80.0         NaN   ..  \n",
       "12  1675264.0   1191257.0   ..  \n",
       "15       84.0         NaN   ..  \n",
       "16  1032764.0    383309.0   ..  \n",
       "19       78.0         NaN   ..  \n",
       "20   153774.0     69931.0   ..  \n",
       "23       80.0         NaN   ..  \n",
       "24  2783846.0   3215116.0   ..  \n",
       "27       81.0         NaN   ..  \n",
       "28  3380568.0   3403183.0   ..  \n",
       "31       86.0         NaN   ..  \n",
       "32     4323.0     28295.0   ..  \n",
       "35       82.0         NaN   ..  \n",
       "36  9385132.0  11667831.0   ..  \n",
       "39       77.0         NaN   ..  \n",
       "40        NaN         NaN   ..  \n",
       "43       90.0         NaN   ..  \n",
       "44        NaN         NaN  NaN  \n",
       "45        NaN         NaN  NaN  \n",
       "46        NaN         NaN  NaN  \n",
       "47        NaN         NaN  NaN  \n",
       "48        NaN         NaN  NaN  "
      ]
     },
     "execution_count": 15,
     "metadata": {},
     "output_type": "execute_result"
    }
   ],
   "source": [
    "\n",
    "malaria_TB_Data[pd.isnull(malaria_TB_Data).any(axis=1)]\n",
    "\n"
   ]
  },
  {
   "cell_type": "markdown",
   "metadata": {},
   "source": [
    "Looks like when reading the excel file, the last entries had extra information that was not supposed to be included\n",
    "\n",
    "We exclude these entries "
   ]
  },
  {
   "cell_type": "code",
   "execution_count": 16,
   "metadata": {
    "collapsed": false
   },
   "outputs": [
    {
     "data": {
      "text/html": [
       "<div>\n",
       "<table border=\"1\" class=\"dataframe\">\n",
       "  <thead>\n",
       "    <tr style=\"text-align: right;\">\n",
       "      <th></th>\n",
       "      <th>Country_Name</th>\n",
       "      <th>Country_Code</th>\n",
       "      <th>Series_Name</th>\n",
       "      <th>Series_Code</th>\n",
       "      <th>2009</th>\n",
       "      <th>2010</th>\n",
       "      <th>2011</th>\n",
       "      <th>2012</th>\n",
       "      <th>2013</th>\n",
       "      <th>2014</th>\n",
       "      <th>2015</th>\n",
       "      <th>2016</th>\n",
       "      <th>2017</th>\n",
       "      <th>2018</th>\n",
       "    </tr>\n",
       "  </thead>\n",
       "  <tbody>\n",
       "    <tr>\n",
       "      <th>44</th>\n",
       "      <td>NaN</td>\n",
       "      <td>NaN</td>\n",
       "      <td>NaN</td>\n",
       "      <td>NaN</td>\n",
       "      <td>NaN</td>\n",
       "      <td>NaN</td>\n",
       "      <td>NaN</td>\n",
       "      <td>NaN</td>\n",
       "      <td>NaN</td>\n",
       "      <td>NaN</td>\n",
       "      <td>NaN</td>\n",
       "      <td>NaN</td>\n",
       "      <td>NaN</td>\n",
       "      <td>NaN</td>\n",
       "    </tr>\n",
       "    <tr>\n",
       "      <th>45</th>\n",
       "      <td>NaN</td>\n",
       "      <td>NaN</td>\n",
       "      <td>NaN</td>\n",
       "      <td>NaN</td>\n",
       "      <td>NaN</td>\n",
       "      <td>NaN</td>\n",
       "      <td>NaN</td>\n",
       "      <td>NaN</td>\n",
       "      <td>NaN</td>\n",
       "      <td>NaN</td>\n",
       "      <td>NaN</td>\n",
       "      <td>NaN</td>\n",
       "      <td>NaN</td>\n",
       "      <td>NaN</td>\n",
       "    </tr>\n",
       "    <tr>\n",
       "      <th>46</th>\n",
       "      <td>NaN</td>\n",
       "      <td>NaN</td>\n",
       "      <td>NaN</td>\n",
       "      <td>NaN</td>\n",
       "      <td>NaN</td>\n",
       "      <td>NaN</td>\n",
       "      <td>NaN</td>\n",
       "      <td>NaN</td>\n",
       "      <td>NaN</td>\n",
       "      <td>NaN</td>\n",
       "      <td>NaN</td>\n",
       "      <td>NaN</td>\n",
       "      <td>NaN</td>\n",
       "      <td>NaN</td>\n",
       "    </tr>\n",
       "    <tr>\n",
       "      <th>47</th>\n",
       "      <td>Data from database: Health Nutrition and Popul...</td>\n",
       "      <td>NaN</td>\n",
       "      <td>NaN</td>\n",
       "      <td>NaN</td>\n",
       "      <td>NaN</td>\n",
       "      <td>NaN</td>\n",
       "      <td>NaN</td>\n",
       "      <td>NaN</td>\n",
       "      <td>NaN</td>\n",
       "      <td>NaN</td>\n",
       "      <td>NaN</td>\n",
       "      <td>NaN</td>\n",
       "      <td>NaN</td>\n",
       "      <td>NaN</td>\n",
       "    </tr>\n",
       "    <tr>\n",
       "      <th>48</th>\n",
       "      <td>Last Updated: 01/25/2019</td>\n",
       "      <td>NaN</td>\n",
       "      <td>NaN</td>\n",
       "      <td>NaN</td>\n",
       "      <td>NaN</td>\n",
       "      <td>NaN</td>\n",
       "      <td>NaN</td>\n",
       "      <td>NaN</td>\n",
       "      <td>NaN</td>\n",
       "      <td>NaN</td>\n",
       "      <td>NaN</td>\n",
       "      <td>NaN</td>\n",
       "      <td>NaN</td>\n",
       "      <td>NaN</td>\n",
       "    </tr>\n",
       "  </tbody>\n",
       "</table>\n",
       "</div>"
      ],
      "text/plain": [
       "                                         Country_Name Country_Code  \\\n",
       "44                                                NaN          NaN   \n",
       "45                                                NaN          NaN   \n",
       "46                                                NaN          NaN   \n",
       "47  Data from database: Health Nutrition and Popul...          NaN   \n",
       "48                           Last Updated: 01/25/2019          NaN   \n",
       "\n",
       "   Series_Name Series_Code  2009  2010  2011  2012  2013  2014  2015  2016  \\\n",
       "44         NaN         NaN   NaN   NaN   NaN   NaN   NaN   NaN   NaN   NaN   \n",
       "45         NaN         NaN   NaN   NaN   NaN   NaN   NaN   NaN   NaN   NaN   \n",
       "46         NaN         NaN   NaN   NaN   NaN   NaN   NaN   NaN   NaN   NaN   \n",
       "47         NaN         NaN   NaN   NaN   NaN   NaN   NaN   NaN   NaN   NaN   \n",
       "48         NaN         NaN   NaN   NaN   NaN   NaN   NaN   NaN   NaN   NaN   \n",
       "\n",
       "    2017 2018  \n",
       "44   NaN  NaN  \n",
       "45   NaN  NaN  \n",
       "46   NaN  NaN  \n",
       "47   NaN  NaN  \n",
       "48   NaN  NaN  "
      ]
     },
     "execution_count": 16,
     "metadata": {},
     "output_type": "execute_result"
    }
   ],
   "source": [
    "#to check the last 5 entries from the data\n",
    "\n",
    "malaria_TB_Data.iloc[-5:]\n"
   ]
  },
  {
   "cell_type": "code",
   "execution_count": 17,
   "metadata": {
    "collapsed": false
   },
   "outputs": [],
   "source": [
    "#to exclude the last 5 entries from the data\n",
    "\n",
    "malaria_TB_Data = malaria_TB_Data[0:44]\n",
    "\n",
    "#or you can use drop and specify axis = 0\n",
    "#malaria_TB_Data.drop([45:49], axis=0)"
   ]
  },
  {
   "cell_type": "code",
   "execution_count": 18,
   "metadata": {
    "collapsed": true
   },
   "outputs": [],
   "source": [
    "#2018 data is empty. We shall work with 2009-2017\n",
    "malaria_TB_Data = malaria_TB_Data.drop('2018', axis=1)"
   ]
  },
  {
   "cell_type": "markdown",
   "metadata": {},
   "source": [
    "## Exploratory Data Analysis"
   ]
  },
  {
   "cell_type": "code",
   "execution_count": 19,
   "metadata": {
    "collapsed": false
   },
   "outputs": [
    {
     "data": {
      "text/plain": [
       "(44, 13)"
      ]
     },
     "execution_count": 19,
     "metadata": {},
     "output_type": "execute_result"
    }
   ],
   "source": [
    "#shape of the data\n",
    "\n",
    "malaria_TB_Data.shape\n",
    "\n",
    "#The data contains 44 rows"
   ]
  },
  {
   "cell_type": "markdown",
   "metadata": {},
   "source": [
    "Our data contains 13 columns and 44 data points/rows"
   ]
  },
  {
   "cell_type": "markdown",
   "metadata": {},
   "source": [
    "Checking the number of countries and countries represented\n"
   ]
  },
  {
   "cell_type": "code",
   "execution_count": 22,
   "metadata": {
    "collapsed": false
   },
   "outputs": [
    {
     "data": {
      "text/plain": [
       "array(['Angola', 'Benin', 'Burkina Faso', 'Cameroon',\n",
       "       'Central African Republic', 'Gambia, The', 'Kenya', 'Rwanda',\n",
       "       'South Africa', 'Uganda', 'Tanzania'], dtype=object)"
      ]
     },
     "execution_count": 22,
     "metadata": {},
     "output_type": "execute_result"
    }
   ],
   "source": [
    "malaria_TB_Data[\"Country_Name\"].unique()\n"
   ]
  },
  {
   "cell_type": "code",
   "execution_count": 24,
   "metadata": {
    "collapsed": false
   },
   "outputs": [
    {
     "data": {
      "text/plain": [
       "count         44\n",
       "unique        11\n",
       "top       Angola\n",
       "freq           4\n",
       "Name: Country_Name, dtype: object"
      ]
     },
     "execution_count": 24,
     "metadata": {},
     "output_type": "execute_result"
    }
   ],
   "source": [
    "malaria_TB_Data.Country_Name.describe()"
   ]
  },
  {
   "cell_type": "markdown",
   "metadata": {},
   "source": [
    "The data is from 11 countries representing East, West and Southern Africa"
   ]
  },
  {
   "cell_type": "markdown",
   "metadata": {},
   "source": [
    "The data contains information about TB and malaria. We shall seprate them to ensure easy analysis"
   ]
  },
  {
   "cell_type": "code",
   "execution_count": 27,
   "metadata": {
    "collapsed": false
   },
   "outputs": [
    {
     "data": {
      "text/plain": [
       "array(['SH.STA.MALR', 'SH.TBS.MORT', 'SH.TBS.DTEC.ZS', 'SH.TBS.CURE.ZS'], dtype=object)"
      ]
     },
     "execution_count": 27,
     "metadata": {},
     "output_type": "execute_result"
    }
   ],
   "source": [
    "malaria_TB_Data.Series_Code.unique()"
   ]
  },
  {
   "cell_type": "code",
   "execution_count": 28,
   "metadata": {
    "collapsed": false
   },
   "outputs": [
    {
     "data": {
      "text/plain": [
       "count              44\n",
       "unique              4\n",
       "top       SH.STA.MALR\n",
       "freq               11\n",
       "Name: Series_Code, dtype: object"
      ]
     },
     "execution_count": 28,
     "metadata": {},
     "output_type": "execute_result"
    }
   ],
   "source": [
    "malaria_TB_Data.Series_Code.describe()"
   ]
  },
  {
   "cell_type": "markdown",
   "metadata": {},
   "source": [
    "1. SH.STA.MALR - Malaria cases reported\n",
    "2. SH.TBS.MORT - Tuberculosis death rate (per 100,000 people)\n",
    "3. SH.TBS.DTEC.ZS - Tuberculosis case detection rate (all forms)\n",
    "4. SH.TBS.CURE.ZS - Tuberculosis treatment success rate (% of new cases)"
   ]
  },
  {
   "cell_type": "code",
   "execution_count": 29,
   "metadata": {
    "collapsed": false
   },
   "outputs": [],
   "source": [
    "#Malaria cases reported\n",
    "malaria_Case=malaria_TB_Data[malaria_TB_Data.Series_Code == 'SH.STA.MALR']"
   ]
  },
  {
   "cell_type": "code",
   "execution_count": 30,
   "metadata": {
    "collapsed": false
   },
   "outputs": [],
   "source": [
    "#Contains all the TB data - mortality rate, cases detected and cured(tratment success rate)\n",
    "TB_Data=malaria_TB_Data[~(malaria_TB_Data.Series_Code == 'SH.STA.MALR')]\n"
   ]
  },
  {
   "cell_type": "code",
   "execution_count": 31,
   "metadata": {
    "collapsed": false
   },
   "outputs": [],
   "source": [
    "#Tuberculosis death rate (per 100,000 people)\n",
    "TB_Mort = malaria_TB_Data[malaria_TB_Data.Series_Code == 'SH.TBS.MORT']"
   ]
  },
  {
   "cell_type": "code",
   "execution_count": 32,
   "metadata": {
    "collapsed": true
   },
   "outputs": [],
   "source": [
    "#Tuberculosis case detection rate (all forms)\n",
    "TB_Dtec = malaria_TB_Data[malaria_TB_Data.Series_Code == 'SH.TBS.DTEC.ZS']"
   ]
  },
  {
   "cell_type": "code",
   "execution_count": 33,
   "metadata": {
    "collapsed": true
   },
   "outputs": [],
   "source": [
    "#Tuberculosis treatment success rate (% of new cases)\n",
    "TB_Cure = malaria_TB_Data[malaria_TB_Data.Series_Code == 'SH.TBS.CURE.ZS']"
   ]
  },
  {
   "cell_type": "markdown",
   "metadata": {},
   "source": [
    "Below is a summary of the TB an malaria case"
   ]
  },
  {
   "cell_type": "code",
   "execution_count": 34,
   "metadata": {
    "collapsed": false
   },
   "outputs": [
    {
     "name": "stderr",
     "output_type": "stream",
     "text": [
      "C:\\Users\\Innocenter\\Anaconda3\\lib\\site-packages\\numpy\\lib\\function_base.py:3834: RuntimeWarning: Invalid value encountered in percentile\n",
      "  RuntimeWarning)\n"
     ]
    },
    {
     "data": {
      "text/html": [
       "<div>\n",
       "<table border=\"1\" class=\"dataframe\">\n",
       "  <thead>\n",
       "    <tr style=\"text-align: right;\">\n",
       "      <th></th>\n",
       "      <th>2010</th>\n",
       "      <th>2011</th>\n",
       "      <th>2012</th>\n",
       "      <th>2013</th>\n",
       "      <th>2014</th>\n",
       "      <th>2015</th>\n",
       "      <th>2016</th>\n",
       "      <th>2017</th>\n",
       "    </tr>\n",
       "  </thead>\n",
       "  <tbody>\n",
       "    <tr>\n",
       "      <th>count</th>\n",
       "      <td>7.000000e+00</td>\n",
       "      <td>9.000000e+00</td>\n",
       "      <td>9.000000e+00</td>\n",
       "      <td>1.000000e+01</td>\n",
       "      <td>9.000000e+00</td>\n",
       "      <td>1.000000e+01</td>\n",
       "      <td>1.000000e+01</td>\n",
       "      <td>1.000000e+01</td>\n",
       "    </tr>\n",
       "    <tr>\n",
       "      <th>mean</th>\n",
       "      <td>8.185974e+05</td>\n",
       "      <td>4.682160e+05</td>\n",
       "      <td>1.223630e+06</td>\n",
       "      <td>1.204041e+06</td>\n",
       "      <td>1.921841e+06</td>\n",
       "      <td>2.420194e+06</td>\n",
       "      <td>3.331365e+06</td>\n",
       "      <td>3.575605e+06</td>\n",
       "    </tr>\n",
       "    <tr>\n",
       "      <th>std</th>\n",
       "      <td>6.477587e+05</td>\n",
       "      <td>5.274291e+05</td>\n",
       "      <td>1.307392e+06</td>\n",
       "      <td>1.228438e+06</td>\n",
       "      <td>1.816432e+06</td>\n",
       "      <td>2.606864e+06</td>\n",
       "      <td>3.527011e+06</td>\n",
       "      <td>4.139685e+06</td>\n",
       "    </tr>\n",
       "    <tr>\n",
       "      <th>min</th>\n",
       "      <td>8.060000e+03</td>\n",
       "      <td>9.866000e+03</td>\n",
       "      <td>5.629000e+03</td>\n",
       "      <td>8.645000e+03</td>\n",
       "      <td>1.170500e+04</td>\n",
       "      <td>4.357000e+03</td>\n",
       "      <td>4.323000e+03</td>\n",
       "      <td>2.829500e+04</td>\n",
       "    </tr>\n",
       "    <tr>\n",
       "      <th>25%</th>\n",
       "      <td>NaN</td>\n",
       "      <td>NaN</td>\n",
       "      <td>NaN</td>\n",
       "      <td>NaN</td>\n",
       "      <td>NaN</td>\n",
       "      <td>NaN</td>\n",
       "      <td>NaN</td>\n",
       "      <td>NaN</td>\n",
       "    </tr>\n",
       "    <tr>\n",
       "      <th>50%</th>\n",
       "      <td>NaN</td>\n",
       "      <td>NaN</td>\n",
       "      <td>NaN</td>\n",
       "      <td>NaN</td>\n",
       "      <td>NaN</td>\n",
       "      <td>NaN</td>\n",
       "      <td>NaN</td>\n",
       "      <td>NaN</td>\n",
       "    </tr>\n",
       "    <tr>\n",
       "      <th>75%</th>\n",
       "      <td>NaN</td>\n",
       "      <td>NaN</td>\n",
       "      <td>NaN</td>\n",
       "      <td>NaN</td>\n",
       "      <td>NaN</td>\n",
       "      <td>NaN</td>\n",
       "      <td>NaN</td>\n",
       "      <td>NaN</td>\n",
       "    </tr>\n",
       "    <tr>\n",
       "      <th>max</th>\n",
       "      <td>1.682870e+06</td>\n",
       "      <td>1.632282e+06</td>\n",
       "      <td>3.858046e+06</td>\n",
       "      <td>3.769051e+06</td>\n",
       "      <td>5.428655e+06</td>\n",
       "      <td>7.137662e+06</td>\n",
       "      <td>9.779154e+06</td>\n",
       "      <td>1.166783e+07</td>\n",
       "    </tr>\n",
       "  </tbody>\n",
       "</table>\n",
       "</div>"
      ],
      "text/plain": [
       "               2010          2011          2012          2013          2014  \\\n",
       "count  7.000000e+00  9.000000e+00  9.000000e+00  1.000000e+01  9.000000e+00   \n",
       "mean   8.185974e+05  4.682160e+05  1.223630e+06  1.204041e+06  1.921841e+06   \n",
       "std    6.477587e+05  5.274291e+05  1.307392e+06  1.228438e+06  1.816432e+06   \n",
       "min    8.060000e+03  9.866000e+03  5.629000e+03  8.645000e+03  1.170500e+04   \n",
       "25%             NaN           NaN           NaN           NaN           NaN   \n",
       "50%             NaN           NaN           NaN           NaN           NaN   \n",
       "75%             NaN           NaN           NaN           NaN           NaN   \n",
       "max    1.682870e+06  1.632282e+06  3.858046e+06  3.769051e+06  5.428655e+06   \n",
       "\n",
       "               2015          2016          2017  \n",
       "count  1.000000e+01  1.000000e+01  1.000000e+01  \n",
       "mean   2.420194e+06  3.331365e+06  3.575605e+06  \n",
       "std    2.606864e+06  3.527011e+06  4.139685e+06  \n",
       "min    4.357000e+03  4.323000e+03  2.829500e+04  \n",
       "25%             NaN           NaN           NaN  \n",
       "50%             NaN           NaN           NaN  \n",
       "75%             NaN           NaN           NaN  \n",
       "max    7.137662e+06  9.779154e+06  1.166783e+07  "
      ]
     },
     "execution_count": 34,
     "metadata": {},
     "output_type": "execute_result"
    }
   ],
   "source": [
    "malaria_Case[[ '2010', '2011', '2012', '2013', '2014','2015', '2016', '2017']].describe()"
   ]
  },
  {
   "cell_type": "markdown",
   "metadata": {},
   "source": [
    "The mean of malaria cases reported has been increasing since 2010 and as of the year 2017 an average of 3.575605e+06 cases were reported"
   ]
  },
  {
   "cell_type": "code",
   "execution_count": 35,
   "metadata": {
    "collapsed": false,
    "scrolled": true
   },
   "outputs": [
    {
     "data": {
      "text/html": [
       "<div>\n",
       "<table border=\"1\" class=\"dataframe\">\n",
       "  <thead>\n",
       "    <tr style=\"text-align: right;\">\n",
       "      <th></th>\n",
       "      <th>2010</th>\n",
       "      <th>2011</th>\n",
       "      <th>2012</th>\n",
       "      <th>2013</th>\n",
       "      <th>2014</th>\n",
       "      <th>2015</th>\n",
       "      <th>2016</th>\n",
       "      <th>2017</th>\n",
       "    </tr>\n",
       "  </thead>\n",
       "  <tbody>\n",
       "    <tr>\n",
       "      <th>count</th>\n",
       "      <td>11.000000</td>\n",
       "      <td>11.000000</td>\n",
       "      <td>11.000000</td>\n",
       "      <td>11.000000</td>\n",
       "      <td>11.000000</td>\n",
       "      <td>11.000000</td>\n",
       "      <td>11.000000</td>\n",
       "      <td>11.000000</td>\n",
       "    </tr>\n",
       "    <tr>\n",
       "      <th>mean</th>\n",
       "      <td>42.100000</td>\n",
       "      <td>40.272727</td>\n",
       "      <td>37.300000</td>\n",
       "      <td>34.418182</td>\n",
       "      <td>33.818182</td>\n",
       "      <td>33.190909</td>\n",
       "      <td>33.290909</td>\n",
       "      <td>33.872727</td>\n",
       "    </tr>\n",
       "    <tr>\n",
       "      <th>std</th>\n",
       "      <td>30.178966</td>\n",
       "      <td>29.990602</td>\n",
       "      <td>26.121753</td>\n",
       "      <td>22.930016</td>\n",
       "      <td>23.271176</td>\n",
       "      <td>21.435599</td>\n",
       "      <td>21.278931</td>\n",
       "      <td>22.319771</td>\n",
       "    </tr>\n",
       "    <tr>\n",
       "      <th>min</th>\n",
       "      <td>6.100000</td>\n",
       "      <td>6.200000</td>\n",
       "      <td>5.700000</td>\n",
       "      <td>5.300000</td>\n",
       "      <td>5.200000</td>\n",
       "      <td>5.000000</td>\n",
       "      <td>5.100000</td>\n",
       "      <td>4.900000</td>\n",
       "    </tr>\n",
       "    <tr>\n",
       "      <th>25%</th>\n",
       "      <td>14.500000</td>\n",
       "      <td>13.250000</td>\n",
       "      <td>14.500000</td>\n",
       "      <td>15.000000</td>\n",
       "      <td>13.300000</td>\n",
       "      <td>14.600000</td>\n",
       "      <td>15.200000</td>\n",
       "      <td>16.000000</td>\n",
       "    </tr>\n",
       "    <tr>\n",
       "      <th>50%</th>\n",
       "      <td>40.000000</td>\n",
       "      <td>37.000000</td>\n",
       "      <td>36.000000</td>\n",
       "      <td>33.000000</td>\n",
       "      <td>30.000000</td>\n",
       "      <td>29.000000</td>\n",
       "      <td>29.000000</td>\n",
       "      <td>30.000000</td>\n",
       "    </tr>\n",
       "    <tr>\n",
       "      <th>75%</th>\n",
       "      <td>75.500000</td>\n",
       "      <td>74.000000</td>\n",
       "      <td>62.500000</td>\n",
       "      <td>55.000000</td>\n",
       "      <td>52.500000</td>\n",
       "      <td>53.000000</td>\n",
       "      <td>54.000000</td>\n",
       "      <td>48.500000</td>\n",
       "    </tr>\n",
       "    <tr>\n",
       "      <th>max</th>\n",
       "      <td>79.000000</td>\n",
       "      <td>77.000000</td>\n",
       "      <td>73.000000</td>\n",
       "      <td>70.000000</td>\n",
       "      <td>68.000000</td>\n",
       "      <td>63.000000</td>\n",
       "      <td>60.000000</td>\n",
       "      <td>68.000000</td>\n",
       "    </tr>\n",
       "  </tbody>\n",
       "</table>\n",
       "</div>"
      ],
      "text/plain": [
       "            2010       2011       2012       2013       2014       2015  \\\n",
       "count  11.000000  11.000000  11.000000  11.000000  11.000000  11.000000   \n",
       "mean   42.100000  40.272727  37.300000  34.418182  33.818182  33.190909   \n",
       "std    30.178966  29.990602  26.121753  22.930016  23.271176  21.435599   \n",
       "min     6.100000   6.200000   5.700000   5.300000   5.200000   5.000000   \n",
       "25%    14.500000  13.250000  14.500000  15.000000  13.300000  14.600000   \n",
       "50%    40.000000  37.000000  36.000000  33.000000  30.000000  29.000000   \n",
       "75%    75.500000  74.000000  62.500000  55.000000  52.500000  53.000000   \n",
       "max    79.000000  77.000000  73.000000  70.000000  68.000000  63.000000   \n",
       "\n",
       "            2016       2017  \n",
       "count  11.000000  11.000000  \n",
       "mean   33.290909  33.872727  \n",
       "std    21.278931  22.319771  \n",
       "min     5.100000   4.900000  \n",
       "25%    15.200000  16.000000  \n",
       "50%    29.000000  30.000000  \n",
       "75%    54.000000  48.500000  \n",
       "max    60.000000  68.000000  "
      ]
     },
     "execution_count": 35,
     "metadata": {},
     "output_type": "execute_result"
    }
   ],
   "source": [
    "TB_Mort[[ '2010', '2011', '2012', '2013', '2014','2015', '2016', '2017']].describe()"
   ]
  },
  {
   "cell_type": "markdown",
   "metadata": {},
   "source": [
    "\n",
    "The average TB death rate (per 100,000 people) has been decreasing and this could be due to the increase of TB awarenesss prgorams"
   ]
  },
  {
   "cell_type": "code",
   "execution_count": 36,
   "metadata": {
    "collapsed": false
   },
   "outputs": [
    {
     "data": {
      "text/html": [
       "<div>\n",
       "<table border=\"1\" class=\"dataframe\">\n",
       "  <thead>\n",
       "    <tr style=\"text-align: right;\">\n",
       "      <th></th>\n",
       "      <th>2010</th>\n",
       "      <th>2011</th>\n",
       "      <th>2012</th>\n",
       "      <th>2013</th>\n",
       "      <th>2014</th>\n",
       "      <th>2015</th>\n",
       "      <th>2016</th>\n",
       "      <th>2017</th>\n",
       "    </tr>\n",
       "  </thead>\n",
       "  <tbody>\n",
       "    <tr>\n",
       "      <th>count</th>\n",
       "      <td>11.000000</td>\n",
       "      <td>11.000000</td>\n",
       "      <td>11.000000</td>\n",
       "      <td>11.000000</td>\n",
       "      <td>11.000000</td>\n",
       "      <td>11.000000</td>\n",
       "      <td>11.000000</td>\n",
       "      <td>11.000000</td>\n",
       "    </tr>\n",
       "    <tr>\n",
       "      <th>mean</th>\n",
       "      <td>54.454545</td>\n",
       "      <td>56.727273</td>\n",
       "      <td>57.363636</td>\n",
       "      <td>58.636364</td>\n",
       "      <td>58.909091</td>\n",
       "      <td>59.090909</td>\n",
       "      <td>58.363636</td>\n",
       "      <td>57.454545</td>\n",
       "    </tr>\n",
       "    <tr>\n",
       "      <th>std</th>\n",
       "      <td>15.174740</td>\n",
       "      <td>17.088539</td>\n",
       "      <td>13.410986</td>\n",
       "      <td>12.043859</td>\n",
       "      <td>12.692159</td>\n",
       "      <td>12.324403</td>\n",
       "      <td>11.377809</td>\n",
       "      <td>10.501082</td>\n",
       "    </tr>\n",
       "    <tr>\n",
       "      <th>min</th>\n",
       "      <td>31.000000</td>\n",
       "      <td>31.000000</td>\n",
       "      <td>34.000000</td>\n",
       "      <td>38.000000</td>\n",
       "      <td>36.000000</td>\n",
       "      <td>37.000000</td>\n",
       "      <td>40.000000</td>\n",
       "      <td>44.000000</td>\n",
       "    </tr>\n",
       "    <tr>\n",
       "      <th>25%</th>\n",
       "      <td>45.500000</td>\n",
       "      <td>46.500000</td>\n",
       "      <td>48.500000</td>\n",
       "      <td>51.500000</td>\n",
       "      <td>53.500000</td>\n",
       "      <td>53.000000</td>\n",
       "      <td>53.000000</td>\n",
       "      <td>51.500000</td>\n",
       "    </tr>\n",
       "    <tr>\n",
       "      <th>50%</th>\n",
       "      <td>53.000000</td>\n",
       "      <td>58.000000</td>\n",
       "      <td>57.000000</td>\n",
       "      <td>60.000000</td>\n",
       "      <td>59.000000</td>\n",
       "      <td>59.000000</td>\n",
       "      <td>57.000000</td>\n",
       "      <td>53.000000</td>\n",
       "    </tr>\n",
       "    <tr>\n",
       "      <th>75%</th>\n",
       "      <td>63.000000</td>\n",
       "      <td>70.500000</td>\n",
       "      <td>65.000000</td>\n",
       "      <td>64.500000</td>\n",
       "      <td>64.500000</td>\n",
       "      <td>65.500000</td>\n",
       "      <td>64.500000</td>\n",
       "      <td>63.500000</td>\n",
       "    </tr>\n",
       "    <tr>\n",
       "      <th>max</th>\n",
       "      <td>80.000000</td>\n",
       "      <td>80.000000</td>\n",
       "      <td>80.000000</td>\n",
       "      <td>80.000000</td>\n",
       "      <td>80.000000</td>\n",
       "      <td>80.000000</td>\n",
       "      <td>80.000000</td>\n",
       "      <td>80.000000</td>\n",
       "    </tr>\n",
       "  </tbody>\n",
       "</table>\n",
       "</div>"
      ],
      "text/plain": [
       "            2010       2011       2012       2013       2014       2015  \\\n",
       "count  11.000000  11.000000  11.000000  11.000000  11.000000  11.000000   \n",
       "mean   54.454545  56.727273  57.363636  58.636364  58.909091  59.090909   \n",
       "std    15.174740  17.088539  13.410986  12.043859  12.692159  12.324403   \n",
       "min    31.000000  31.000000  34.000000  38.000000  36.000000  37.000000   \n",
       "25%    45.500000  46.500000  48.500000  51.500000  53.500000  53.000000   \n",
       "50%    53.000000  58.000000  57.000000  60.000000  59.000000  59.000000   \n",
       "75%    63.000000  70.500000  65.000000  64.500000  64.500000  65.500000   \n",
       "max    80.000000  80.000000  80.000000  80.000000  80.000000  80.000000   \n",
       "\n",
       "            2016       2017  \n",
       "count  11.000000  11.000000  \n",
       "mean   58.363636  57.454545  \n",
       "std    11.377809  10.501082  \n",
       "min    40.000000  44.000000  \n",
       "25%    53.000000  51.500000  \n",
       "50%    57.000000  53.000000  \n",
       "75%    64.500000  63.500000  \n",
       "max    80.000000  80.000000  "
      ]
     },
     "execution_count": 36,
     "metadata": {},
     "output_type": "execute_result"
    }
   ],
   "source": [
    "TB_Dtec[[ '2010', '2011', '2012', '2013', '2014','2015', '2016', '2017']].describe()"
   ]
  },
  {
   "cell_type": "markdown",
   "metadata": {},
   "source": [
    "% of all forms of TB case detection rate has been increasing since 2010 and this could be due to the awareness programs rolled out in the countries"
   ]
  },
  {
   "cell_type": "code",
   "execution_count": 37,
   "metadata": {
    "collapsed": false
   },
   "outputs": [
    {
     "name": "stderr",
     "output_type": "stream",
     "text": [
      "C:\\Users\\Innocenter\\Anaconda3\\lib\\site-packages\\numpy\\lib\\function_base.py:3834: RuntimeWarning: Invalid value encountered in percentile\n",
      "  RuntimeWarning)\n"
     ]
    },
    {
     "data": {
      "text/html": [
       "<div>\n",
       "<table border=\"1\" class=\"dataframe\">\n",
       "  <thead>\n",
       "    <tr style=\"text-align: right;\">\n",
       "      <th></th>\n",
       "      <th>2010</th>\n",
       "      <th>2011</th>\n",
       "      <th>2012</th>\n",
       "      <th>2013</th>\n",
       "      <th>2014</th>\n",
       "      <th>2015</th>\n",
       "      <th>2016</th>\n",
       "      <th>2017</th>\n",
       "    </tr>\n",
       "  </thead>\n",
       "  <tbody>\n",
       "    <tr>\n",
       "      <th>count</th>\n",
       "      <td>11.000000</td>\n",
       "      <td>11.000000</td>\n",
       "      <td>11.000000</td>\n",
       "      <td>11.000000</td>\n",
       "      <td>11.000000</td>\n",
       "      <td>10.000000</td>\n",
       "      <td>11.000000</td>\n",
       "      <td>0.0</td>\n",
       "    </tr>\n",
       "    <tr>\n",
       "      <th>mean</th>\n",
       "      <td>74.454545</td>\n",
       "      <td>75.272727</td>\n",
       "      <td>78.272727</td>\n",
       "      <td>76.818182</td>\n",
       "      <td>78.363636</td>\n",
       "      <td>83.000000</td>\n",
       "      <td>77.545455</td>\n",
       "      <td>NaN</td>\n",
       "    </tr>\n",
       "    <tr>\n",
       "      <th>std</th>\n",
       "      <td>15.141754</td>\n",
       "      <td>18.292572</td>\n",
       "      <td>12.775687</td>\n",
       "      <td>18.893481</td>\n",
       "      <td>16.007953</td>\n",
       "      <td>5.011099</td>\n",
       "      <td>17.253195</td>\n",
       "      <td>NaN</td>\n",
       "    </tr>\n",
       "    <tr>\n",
       "      <th>min</th>\n",
       "      <td>48.000000</td>\n",
       "      <td>27.000000</td>\n",
       "      <td>45.000000</td>\n",
       "      <td>23.000000</td>\n",
       "      <td>34.000000</td>\n",
       "      <td>75.000000</td>\n",
       "      <td>27.000000</td>\n",
       "      <td>NaN</td>\n",
       "    </tr>\n",
       "    <tr>\n",
       "      <th>25%</th>\n",
       "      <td>63.500000</td>\n",
       "      <td>75.000000</td>\n",
       "      <td>77.000000</td>\n",
       "      <td>76.500000</td>\n",
       "      <td>76.500000</td>\n",
       "      <td>NaN</td>\n",
       "      <td>79.000000</td>\n",
       "      <td>NaN</td>\n",
       "    </tr>\n",
       "    <tr>\n",
       "      <th>50%</th>\n",
       "      <td>78.000000</td>\n",
       "      <td>79.000000</td>\n",
       "      <td>80.000000</td>\n",
       "      <td>82.000000</td>\n",
       "      <td>84.000000</td>\n",
       "      <td>NaN</td>\n",
       "      <td>81.000000</td>\n",
       "      <td>NaN</td>\n",
       "    </tr>\n",
       "    <tr>\n",
       "      <th>75%</th>\n",
       "      <td>87.000000</td>\n",
       "      <td>87.500000</td>\n",
       "      <td>85.500000</td>\n",
       "      <td>86.000000</td>\n",
       "      <td>87.500000</td>\n",
       "      <td>NaN</td>\n",
       "      <td>85.000000</td>\n",
       "      <td>NaN</td>\n",
       "    </tr>\n",
       "    <tr>\n",
       "      <th>max</th>\n",
       "      <td>90.000000</td>\n",
       "      <td>89.000000</td>\n",
       "      <td>90.000000</td>\n",
       "      <td>91.000000</td>\n",
       "      <td>90.000000</td>\n",
       "      <td>90.000000</td>\n",
       "      <td>90.000000</td>\n",
       "      <td>NaN</td>\n",
       "    </tr>\n",
       "  </tbody>\n",
       "</table>\n",
       "</div>"
      ],
      "text/plain": [
       "            2010       2011       2012       2013       2014       2015  \\\n",
       "count  11.000000  11.000000  11.000000  11.000000  11.000000  10.000000   \n",
       "mean   74.454545  75.272727  78.272727  76.818182  78.363636  83.000000   \n",
       "std    15.141754  18.292572  12.775687  18.893481  16.007953   5.011099   \n",
       "min    48.000000  27.000000  45.000000  23.000000  34.000000  75.000000   \n",
       "25%    63.500000  75.000000  77.000000  76.500000  76.500000        NaN   \n",
       "50%    78.000000  79.000000  80.000000  82.000000  84.000000        NaN   \n",
       "75%    87.000000  87.500000  85.500000  86.000000  87.500000        NaN   \n",
       "max    90.000000  89.000000  90.000000  91.000000  90.000000  90.000000   \n",
       "\n",
       "            2016  2017  \n",
       "count  11.000000   0.0  \n",
       "mean   77.545455   NaN  \n",
       "std    17.253195   NaN  \n",
       "min    27.000000   NaN  \n",
       "25%    79.000000   NaN  \n",
       "50%    81.000000   NaN  \n",
       "75%    85.000000   NaN  \n",
       "max    90.000000   NaN  "
      ]
     },
     "execution_count": 37,
     "metadata": {},
     "output_type": "execute_result"
    }
   ],
   "source": [
    "TB_Cure[[ '2010', '2011', '2012', '2013', '2014','2015', '2016', '2017']].describe()"
   ]
  },
  {
   "cell_type": "markdown",
   "metadata": {},
   "source": [
    "% of new cases of TB treatment success rate has been fluctuating over the years "
   ]
  },
  {
   "cell_type": "markdown",
   "metadata": {},
   "source": [
    "## Visualizations"
   ]
  },
  {
   "cell_type": "markdown",
   "metadata": {},
   "source": [
    "Here we shall visualize the TB and malaria data to understand more about the trends. We shall show how to visualize data using bar charts, line graphs, boxplots"
   ]
  },
  {
   "cell_type": "markdown",
   "metadata": {},
   "source": [
    "### Bar chart using selected years"
   ]
  },
  {
   "cell_type": "code",
   "execution_count": 46,
   "metadata": {
    "collapsed": false
   },
   "outputs": [
    {
     "data": {
      "image/png": "[encoded data removed]",
      "text/plain": [
       "<matplotlib.figure.Figure at 0x277ca647d30>"
      ]
     },
     "metadata": {},
     "output_type": "display_data"
    }
   ],
   "source": [
    "malaria_Case.plot.bar(x='Country_Code', y = ['2010','2011','2016' ,'2017'])\n",
    "plt.title(\"Malaria cases reported per country\")\n",
    "plt.xlabel(\"Contry code\")\n",
    "plt.ylabel('Cases reported')\n",
    "plt.tick_params(axis='both', which='both', bottom='off', top='off', labelbottom=True, right='off', left='off', labelleft=True)\n"
   ]
  },
  {
   "cell_type": "markdown",
   "metadata": {},
   "source": [
    "1. A column bar chart presents data visually in bars and \n",
    "2. Bar charts shows comparisons between categories of data points\n",
    "\n",
    "It is a great way to see the difference of categories visually. In this case, Uganda has been reporting more malaria cases in 2016, 2017 compared to the other countries. It is obvious to see that malaria cases has been increasing over the years for all countries expect The Gambia - this could be because of malaria programs that supply mosquito nets or educate people or the data has not been reported effectively."
   ]
  },
  {
   "cell_type": "markdown",
   "metadata": {},
   "source": [
    "### Bar chart using mean values "
   ]
  },
  {
   "cell_type": "code",
   "execution_count": 81,
   "metadata": {
    "collapsed": false
   },
   "outputs": [],
   "source": [
    "avg_TB_Mort=TB_Mort[[ '2010', '2011', '2012', '2013', '2014','2015', '2016', '2017']].mean()\n"
   ]
  },
  {
   "cell_type": "markdown",
   "metadata": {},
   "source": [
    "This presents the average TB death rate (per 100,000 people) in a dataframe\n",
    "\n",
    "In this case, we use Seaborn a statistical visualization tool to plot"
   ]
  },
  {
   "cell_type": "code",
   "execution_count": 87,
   "metadata": {
    "collapsed": false,
    "scrolled": true
   },
   "outputs": [
    {
     "data": {
      "image/png": "[encoded data removed]",
      "text/plain": [
       "<matplotlib.figure.Figure at 0x277cbdda278>"
      ]
     },
     "metadata": {},
     "output_type": "display_data"
    }
   ],
   "source": [
    "g=sns.barplot(x=avg_TB_Mort.index, y=avg_TB_Mort.values)\n",
    "g.set_title(' Average TB death (per 100,000 people) per year')\n",
    "g.set_ylabel(\"Avg TB death per 100,000 people\")\n",
    "g.set_xlabel= (\" Year\")\n",
    "plt.tick_params(axis='both', which='both', bottom='off', top='off', labelbottom=True, right='off', left='off', labelleft=True)\n"
   ]
  },
  {
   "cell_type": "code",
   "execution_count": 107,
   "metadata": {
    "collapsed": false
   },
   "outputs": [
    {
     "data": {
      "text/plain": [
       "<matplotlib.figure.Figure at 0x277ca4c8780>"
      ]
     },
     "metadata": {},
     "output_type": "display_data"
    },
    {
     "data": {
      "image/png": "[encoded data removed]",
      "text/plain": [
       "<matplotlib.figure.Figure at 0x277cbd5b518>"
      ]
     },
     "metadata": {},
     "output_type": "display_data"
    }
   ],
   "source": [
    "plt.figure(figsize=(12, 8))\n",
    "\n",
    "fig= TB_Mort.plot.bar(x='Country_Code', y = ['2010','2011','2016' ,'2017'])\n",
    "fig.set_ylabel('Mortality rate')\n",
    "fig.set_xlabel('Countries')\n",
    "\n",
    "fig.set_title('TB Mortality rate per 100,000 people in selected years')\n",
    "\n",
    "plt.legend(loc='upper right')\n",
    "\n",
    "plt.tick_params(axis='both', which='both', bottom='off', top='off', labelbottom=True, right='off', left='off', labelleft=True)\n"
   ]
  },
  {
   "cell_type": "markdown",
   "metadata": {},
   "source": [
    "### Box plot "
   ]
  },
  {
   "cell_type": "markdown",
   "metadata": {},
   "source": [
    "The box plot will show us an indication of 1st quantile, 2nd quantile(median), the 3rd quantile, the minimum, the maximum and the outliers(if they exist).\n"
   ]
  },
  {
   "cell_type": "code",
   "execution_count": 102,
   "metadata": {
    "collapsed": false
   },
   "outputs": [
    {
     "data": {
      "image/png": "[encoded data removed]",
      "text/plain": [
       "<matplotlib.figure.Figure at 0x277ca5899e8>"
      ]
     },
     "metadata": {},
     "output_type": "display_data"
    }
   ],
   "source": [
    "TBdtecfig=TB_Dtec[['2009', '2010', '2011', '2012', '2013', '2014','2015', '2016', '2017']].plot.box()\n",
    "TBdtecfig.set_title('Mean % TB detection rate per year')\n",
    "TBdtecfig.set_ylabel('Mean % TB detection rate')\n",
    "TBdtecfig.set_xlabel('Year')\n",
    "plt.tick_params(axis='both', which='both', bottom='off', top='off', labelbottom=True, right='off', left='off', labelleft=True)\n"
   ]
  },
  {
   "cell_type": "markdown",
   "metadata": {},
   "source": [
    "From our plot outliers exist - the % average of detection rate has been fluctuating over the years "
   ]
  },
  {
   "cell_type": "markdown",
   "metadata": {
    "collapsed": true
   },
   "source": [
    "### Line graphs"
   ]
  },
  {
   "cell_type": "code",
   "execution_count": 103,
   "metadata": {
    "collapsed": false
   },
   "outputs": [
    {
     "data": {
      "image/png": "[encoded data removed]",
      "text/plain": [
       "<matplotlib.figure.Figure at 0x277cbae9ac8>"
      ]
     },
     "metadata": {},
     "output_type": "display_data"
    }
   ],
   "source": [
    "TBcurefig=TB_Cure[[ '2009', '2010', '2011', '2012', '2013', '2014','2015', '2016', '2017']].mean().plot()\n",
    "TBcurefig.set_title('Mean % TB treatment success rate per year')\n",
    "TBcurefig.set_ylabel('Mean % cure rate')\n",
    "TBcurefig.set_xlabel('Year')\n",
    "plt.tick_params(axis='both', which='both', bottom='off', top='off', labelbottom=True, right='off', left='off', labelleft=True)\n"
   ]
  },
  {
   "cell_type": "markdown",
   "metadata": {
    "collapsed": true
   },
   "source": [
    "1. The mean % treatment success rate was highest in 2015 and dropped in 2016 \n",
    "2. The mean % treatment success rate has been increasing over the years until 2015 before the huge drop"
   ]
  },
  {
   "cell_type": "code",
   "execution_count": 105,
   "metadata": {
    "collapsed": false
   },
   "outputs": [
    {
     "data": {
      "image/png": "[encoded data removed]",
      "text/plain": [
       "<matplotlib.figure.Figure at 0x277ca5214e0>"
      ]
     },
     "metadata": {},
     "output_type": "display_data"
    }
   ],
   "source": [
    "mortfig=TB_Mort[[ '2009', '2010', '2011', '2012', '2013', '2014','2015', '2016', '2017']].mean().plot()\n",
    "mortfig.set_title('Mean TB mortality rate per 100,000 people year')\n",
    "mortfig.set_ylabel('Mean mortality rate')\n",
    "mortfig.set_xlabel('Year')\n",
    "plt.tick_params(axis='both', which='both', bottom='off', top='off', labelbottom=True, right='off', left='off', labelleft=True)\n"
   ]
  },
  {
   "cell_type": "code",
   "execution_count": 108,
   "metadata": {
    "collapsed": false
   },
   "outputs": [
    {
     "name": "stderr",
     "output_type": "stream",
     "text": [
      "C:\\Users\\Innocenter\\Anaconda3\\lib\\site-packages\\statsmodels\\nonparametric\\kdetools.py:20: VisibleDeprecationWarning: using a non-integer number instead of an integer will result in an error in the future\n",
      "  y = X[:m/2+1] + np.r_[0,X[m/2+1:],0]*1j\n"
     ]
    },
    {
     "data": {
      "image/png": "[encoded data removed]",
      "text/plain": [
       "<matplotlib.figure.Figure at 0x277cbb45ba8>"
      ]
     },
     "metadata": {},
     "output_type": "display_data"
    }
   ],
   "source": [
    "sns.jointplot(TB_Mort[\"2016\"], TB_Dtec[\"2016\"],height=8,color=\"g\",kind=\"kde\")\n",
    "plt.tick_params(axis='both', which='both', bottom='off', top='off', labelbottom=True, right='off', left='off', labelleft=True)\n"
   ]
  },
  {
   "cell_type": "markdown",
   "metadata": {},
   "source": [
    "mort is on the y axis\n",
    "The majority cases detected (0-20) have the highest mortality rate"
   ]
  },
  {
   "cell_type": "markdown",
   "metadata": {},
   "source": [
    "# Conclusion"
   ]
  },
  {
   "cell_type": "markdown",
   "metadata": {
    "collapsed": true
   },
   "source": [
    "1. Malaria cases reported have increased since 2010 to 2017\n",
    "2. TB mortality per 100,000 people has been decreasing since 2010 to 2017\n",
    "3. % TB detection rate has been fluctuating slightly over the years\n",
    "4. % TB treatment success rate has been increasing up until 2016 where a drop was experienced"
   ]
  },
  {
   "cell_type": "markdown",
   "metadata": {},
   "source": [
    "# References"
   ]
  },
  {
   "cell_type": "markdown",
   "metadata": {},
   "source": [
    "1. Nairobi Data Science, April Newsletter (Panda tricks). You can subscribe by sending an email to sidney.ochieng@gmail.com or chrisorwa@gmail.com \n",
    "2. https://towardsdatascience.com/10-python-pandas-tricks-that-make-your-work-more-efficient-2e8e483808ba\n",
    "3. https://www.shanelynn.ie/using-pandas-dataframe-creating-editing-viewing-data-in-python/\n",
    "4. Converting types https://pbpython.com/pandas_dtypes.html\n",
    "5. https://semasuka.github.io/blog/2019/03/26/introduction-to-eda.html\n"
   ]
  },
  {
   "cell_type": "markdown",
   "metadata": {
    "collapsed": true
   },
   "source": [
    "Next I will work on cancer data analysis"
   ]
  },
  {
   "cell_type": "code",
   "execution_count": null,
   "metadata": {
    "collapsed": true
   },
   "outputs": [],
   "source": []
  }
 ],
 "metadata": {
  "anaconda-cloud": {},
  "kernelspec": {
   "display_name": "Python [default]",
   "language": "python",
   "name": "python3"
  },
  "language_info": {
   "codemirror_mode": {
    "name": "ipython",
    "version": 3
   },
   "file_extension": ".py",
   "mimetype": "text/x-python",
   "name": "python",
   "nbconvert_exporter": "python",
   "pygments_lexer": "ipython3",
   "version": "3.5.2"
  }
 },
 "nbformat": 4,
 "nbformat_minor": 1
}
